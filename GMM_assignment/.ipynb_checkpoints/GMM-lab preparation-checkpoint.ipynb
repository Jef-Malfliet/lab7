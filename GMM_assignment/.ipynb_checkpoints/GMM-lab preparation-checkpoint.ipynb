{
 "cells": [
  {
   "cell_type": "markdown",
   "metadata": {},
   "source": [
    "# Preparation for the lab on Gaussian Mixture Models\n",
    "* If not done yet, first install the nilmtk library and the sckit-image library in your conda or pip environment.\n",
    "  * https://scikit-image.org/docs/0.14.x/install.html\n",
    "  * https://github.com/nilmtk/nilmtk/blob/master/docs/manual/user_guide/install_user.md\n",
    "* Download the provided dataset, and make sure it is available in a directory './low_freq'.\n",
    "* Create a .h5 index file on your machine of the dataset. This might take a while!"
   ]
  },
  {
   "cell_type": "code",
   "execution_count": 1,
   "metadata": {},
   "outputs": [
    {
     "ename": "ModuleNotFoundError",
     "evalue": "No module named 'nilmtk'",
     "output_type": "error",
     "traceback": [
      "\u001b[0;31m---------------------------------------------------------------------------\u001b[0m",
      "\u001b[0;31mModuleNotFoundError\u001b[0m                       Traceback (most recent call last)",
      "\u001b[0;32m<ipython-input-1-1a1cd63ed47a>\u001b[0m in \u001b[0;36m<module>\u001b[0;34m\u001b[0m\n\u001b[0;32m----> 1\u001b[0;31m \u001b[0;32mfrom\u001b[0m \u001b[0mnilmtk\u001b[0m\u001b[0;34m.\u001b[0m\u001b[0mdataset_converters\u001b[0m \u001b[0;32mimport\u001b[0m \u001b[0mconvert_redd\u001b[0m\u001b[0;34m\u001b[0m\u001b[0;34m\u001b[0m\u001b[0m\n\u001b[0m\u001b[1;32m      2\u001b[0m \u001b[0mconvert_redd\u001b[0m\u001b[0;34m(\u001b[0m\u001b[0;34m'./low_freq'\u001b[0m\u001b[0;34m,\u001b[0m \u001b[0;34m'./redd.h5'\u001b[0m\u001b[0;34m)\u001b[0m\u001b[0;34m\u001b[0m\u001b[0;34m\u001b[0m\u001b[0m\n",
      "\u001b[0;31mModuleNotFoundError\u001b[0m: No module named 'nilmtk'"
     ]
    }
   ],
   "source": [
    "from nilmtk.dataset_converters import convert_redd\n",
    "convert_redd('./low_freq', './redd.h5')"
   ]
  },
  {
   "cell_type": "code",
   "execution_count": null,
   "metadata": {},
   "outputs": [],
   "source": []
  }
 ],
 "metadata": {
  "kernelspec": {
   "display_name": "Python 3",
   "language": "python",
   "name": "python3"
  },
  "language_info": {
   "codemirror_mode": {
    "name": "ipython",
    "version": 3
   },
   "file_extension": ".py",
   "mimetype": "text/x-python",
   "name": "python",
   "nbconvert_exporter": "python",
   "pygments_lexer": "ipython3",
   "version": "3.8.3"
  }
 },
 "nbformat": 4,
 "nbformat_minor": 5
}
